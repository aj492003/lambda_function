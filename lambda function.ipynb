{
 "cells": [
  {
   "cell_type": "code",
   "execution_count": 1,
   "id": "f48c7353-6376-4707-ad32-d577eb03e33e",
   "metadata": {},
   "outputs": [],
   "source": [
    "n = 3\n",
    "p = 2"
   ]
  },
  {
   "cell_type": "code",
   "execution_count": 2,
   "id": "15c1e3dd-d21c-4c18-9d37-396ad5d5cc69",
   "metadata": {},
   "outputs": [],
   "source": [
    "def test(n,p):\n",
    "    return n**p"
   ]
  },
  {
   "cell_type": "code",
   "execution_count": 3,
   "id": "1fa1e423-d310-4fa5-bde9-2fcff6042ba0",
   "metadata": {},
   "outputs": [
    {
     "data": {
      "text/plain": [
       "9"
      ]
     },
     "execution_count": 3,
     "metadata": {},
     "output_type": "execute_result"
    }
   ],
   "source": [
    "test(3,2)"
   ]
  },
  {
   "cell_type": "code",
   "execution_count": 4,
   "id": "7de4a9ca-c974-4def-af3e-ad05e317afa1",
   "metadata": {},
   "outputs": [],
   "source": [
    "# using lambda function"
   ]
  },
  {
   "cell_type": "code",
   "execution_count": 5,
   "id": "b43f68d1-d8ab-4c50-adad-1cae79785e51",
   "metadata": {},
   "outputs": [
    {
     "data": {
      "text/plain": [
       "<function __main__.<lambda>(n, p)>"
      ]
     },
     "execution_count": 5,
     "metadata": {},
     "output_type": "execute_result"
    }
   ],
   "source": [
    "lambda n,p: n**p"
   ]
  },
  {
   "cell_type": "code",
   "execution_count": 7,
   "id": "ba165a1f-2f72-4758-b25b-1592f1af84ac",
   "metadata": {},
   "outputs": [],
   "source": [
    "a = lambda n,p: n**p"
   ]
  },
  {
   "cell_type": "code",
   "execution_count": 8,
   "id": "ded351b7-31df-461b-bd95-8011725ae32f",
   "metadata": {},
   "outputs": [
    {
     "data": {
      "text/plain": [
       "9"
      ]
     },
     "execution_count": 8,
     "metadata": {},
     "output_type": "execute_result"
    }
   ],
   "source": [
    "a(3,2)"
   ]
  },
  {
   "cell_type": "code",
   "execution_count": 9,
   "id": "a7d4cd39-ba86-4e61-8d82-d2fde7795f72",
   "metadata": {},
   "outputs": [],
   "source": [
    "# addition using lambda function"
   ]
  },
  {
   "cell_type": "code",
   "execution_count": 10,
   "id": "ee7169e6-475a-4173-918c-fba31cbe3111",
   "metadata": {},
   "outputs": [],
   "source": [
    "add = lambda x,y : x+y"
   ]
  },
  {
   "cell_type": "code",
   "execution_count": 11,
   "id": "b6280d66-78e1-45bb-8a73-e44ea6b2c37c",
   "metadata": {},
   "outputs": [
    {
     "data": {
      "text/plain": [
       "9"
      ]
     },
     "execution_count": 11,
     "metadata": {},
     "output_type": "execute_result"
    }
   ],
   "source": [
    "add(4,5)"
   ]
  },
  {
   "cell_type": "code",
   "execution_count": 12,
   "id": "7dadb8cd-fcee-4e56-a842-1aa32a2fb1a6",
   "metadata": {},
   "outputs": [],
   "source": [
    "# celcius to fahrenhiet conversion using lambda function"
   ]
  },
  {
   "cell_type": "code",
   "execution_count": 14,
   "id": "73c4cd2d-7f0b-400e-8190-1d79c1981552",
   "metadata": {},
   "outputs": [],
   "source": [
    "c_to_f = lambda c: (9/5)*c + 32"
   ]
  },
  {
   "cell_type": "code",
   "execution_count": 15,
   "id": "96a506b0-7f7c-4526-a27a-4ea775dc5775",
   "metadata": {},
   "outputs": [
    {
     "data": {
      "text/plain": [
       "113.0"
      ]
     },
     "execution_count": 15,
     "metadata": {},
     "output_type": "execute_result"
    }
   ],
   "source": [
    "c_to_f(45)"
   ]
  },
  {
   "cell_type": "code",
   "execution_count": 16,
   "id": "29ab2ddd-43da-4028-ba82-0d0ca65e955d",
   "metadata": {},
   "outputs": [],
   "source": [
    "# finding max number using lambda function"
   ]
  },
  {
   "cell_type": "code",
   "execution_count": 18,
   "id": "991268ef-3827-4827-b267-34e7d3a0fefd",
   "metadata": {},
   "outputs": [],
   "source": [
    "finding_max = lambda x,y : x if x>y else y"
   ]
  },
  {
   "cell_type": "code",
   "execution_count": 19,
   "id": "2286fac5-3cfd-4a58-852c-5b87a2660379",
   "metadata": {},
   "outputs": [
    {
     "data": {
      "text/plain": [
       "69"
      ]
     },
     "execution_count": 19,
     "metadata": {},
     "output_type": "execute_result"
    }
   ],
   "source": [
    "finding_max(68,69)"
   ]
  },
  {
   "cell_type": "code",
   "execution_count": 20,
   "id": "0ed9142e-67b3-4c48-a911-9ffde6674535",
   "metadata": {},
   "outputs": [],
   "source": [
    "s = \"ankur jha\""
   ]
  },
  {
   "cell_type": "code",
   "execution_count": 21,
   "id": "1817557c-b4db-4c25-b8f2-fd157ef1aa0f",
   "metadata": {},
   "outputs": [],
   "source": [
    "# return length of string using lambda function"
   ]
  },
  {
   "cell_type": "code",
   "execution_count": 22,
   "id": "f9056778-e803-4ac3-b590-dab05a1c4332",
   "metadata": {},
   "outputs": [],
   "source": [
    "find_len = lambda s : len(s)"
   ]
  },
  {
   "cell_type": "code",
   "execution_count": 23,
   "id": "e8616f2a-6f92-4778-a9b2-f791e8f2e982",
   "metadata": {},
   "outputs": [
    {
     "data": {
      "text/plain": [
       "9"
      ]
     },
     "execution_count": 23,
     "metadata": {},
     "output_type": "execute_result"
    }
   ],
   "source": [
    "find_len(s)"
   ]
  },
  {
   "cell_type": "code",
   "execution_count": null,
   "id": "7d8c4eca-a3f7-477f-ae13-4b1ff29a844e",
   "metadata": {},
   "outputs": [],
   "source": []
  }
 ],
 "metadata": {
  "kernelspec": {
   "display_name": "Python 3 (ipykernel)",
   "language": "python",
   "name": "python3"
  },
  "language_info": {
   "codemirror_mode": {
    "name": "ipython",
    "version": 3
   },
   "file_extension": ".py",
   "mimetype": "text/x-python",
   "name": "python",
   "nbconvert_exporter": "python",
   "pygments_lexer": "ipython3",
   "version": "3.10.8"
  }
 },
 "nbformat": 4,
 "nbformat_minor": 5
}
